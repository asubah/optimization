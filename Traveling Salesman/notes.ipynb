{
 "cells": [
  {
   "cell_type": "code",
   "execution_count": 31,
   "metadata": {
    "collapsed": true
   },
   "outputs": [],
   "source": [
    "import numpy as np"
   ]
  },
  {
   "cell_type": "code",
   "execution_count": 32,
   "metadata": {
    "collapsed": false,
    "scrolled": true
   },
   "outputs": [
    {
     "data": {
      "text/plain": [
       "array([[  1,  64,  96],\n",
       "       [  2,  80,  39],\n",
       "       [  3,  69,  23],\n",
       "       [  4,  72,  42],\n",
       "       [  5,  48,  67],\n",
       "       [  6,  58,  43],\n",
       "       [  7,  81,  34],\n",
       "       [  8,  79,  17],\n",
       "       [  9,  30,  23],\n",
       "       [ 10,  42,  67],\n",
       "       [ 11,   7,  76],\n",
       "       [ 12,  29,  51],\n",
       "       [ 13,  78,  92],\n",
       "       [ 14,  64,   8],\n",
       "       [ 15,  95,  57],\n",
       "       [ 16,  57,  91],\n",
       "       [ 17,  40,  35],\n",
       "       [ 18,  68,  40],\n",
       "       [ 19,  92,  34],\n",
       "       [ 20,  62,   1],\n",
       "       [ 21,  28,  43],\n",
       "       [ 22,  76,  73],\n",
       "       [ 23,  67,  88],\n",
       "       [ 24,  93,  54],\n",
       "       [ 25,   6,   8],\n",
       "       [ 26,  87,  18],\n",
       "       [ 27,  30,   9],\n",
       "       [ 28,  77,  13],\n",
       "       [ 29,  78,  94],\n",
       "       [ 30,  55,   3],\n",
       "       [ 31,  82,  88],\n",
       "       [ 32,  73,  28],\n",
       "       [ 33,  20,  55],\n",
       "       [ 34,  27,  43],\n",
       "       [ 35,  95,  86],\n",
       "       [ 36,  67,  99],\n",
       "       [ 37,  48,  83],\n",
       "       [ 38,  75,  81],\n",
       "       [ 39,   8,  19],\n",
       "       [ 40,  20,  18],\n",
       "       [ 41,  54,  38],\n",
       "       [ 42,  63,  36],\n",
       "       [ 43,  44,  33],\n",
       "       [ 44,  52,  18],\n",
       "       [ 45,  12,  13],\n",
       "       [ 46,  25,   5],\n",
       "       [ 47,  58,  85],\n",
       "       [ 48,   5,  67],\n",
       "       [ 49,  90,   9],\n",
       "       [ 50,  41,  76],\n",
       "       [ 51,  25,  76],\n",
       "       [ 52,  37,  64],\n",
       "       [ 53,  56,  63],\n",
       "       [ 54,  10,  55],\n",
       "       [ 55,  98,   7],\n",
       "       [ 56,  16,  74],\n",
       "       [ 57,  89,  60],\n",
       "       [ 58,  48,  82],\n",
       "       [ 59,  81,  76],\n",
       "       [ 60,  29,  60],\n",
       "       [ 61,  17,  22],\n",
       "       [ 62,   5,  45],\n",
       "       [ 63,  79,  70],\n",
       "       [ 64,   9, 100],\n",
       "       [ 65,  17,  82],\n",
       "       [ 66,  74,  67],\n",
       "       [ 67,  10,  68],\n",
       "       [ 68,  48,  19],\n",
       "       [ 69,  83,  86],\n",
       "       [ 70,  84,  94]])"
      ]
     },
     "execution_count": 32,
     "metadata": {},
     "output_type": "execute_result"
    }
   ],
   "source": [
    "data = np.genfromtxt('benchmarks/St70.txt', skip_header=6, skip_footer=1, dtype=np.int)\n",
    "data"
   ]
  },
  {
   "cell_type": "code",
   "execution_count": 33,
   "metadata": {
    "collapsed": false
   },
   "outputs": [],
   "source": [
    "m = np.zeros(shape=(len(data), len(data)))"
   ]
  },
  {
   "cell_type": "code",
   "execution_count": 34,
   "metadata": {
    "collapsed": true
   },
   "outputs": [],
   "source": [
    "from math import sqrt\n",
    "def e_distance(x, y, a, b):\n",
    "    return sqrt(((x - a) ** 2) + ((y - b) ** 2))"
   ]
  },
  {
   "cell_type": "code",
   "execution_count": 35,
   "metadata": {
    "collapsed": false
   },
   "outputs": [
    {
     "data": {
      "text/plain": [
       "5.0"
      ]
     },
     "execution_count": 35,
     "metadata": {},
     "output_type": "execute_result"
    }
   ],
   "source": [
    "e_distance(2,-1,-2,2)"
   ]
  },
  {
   "cell_type": "code",
   "execution_count": 39,
   "metadata": {
    "collapsed": false
   },
   "outputs": [
    {
     "data": {
      "text/plain": [
       "array([[  0.        ,  59.20304046,  73.17103252, ...,  78.64477096,\n",
       "         21.47091055,  20.09975124],\n",
       "       [ 59.20304046,   0.        ,  19.41648784, ...,  37.73592453,\n",
       "         47.09564736,  55.14526272],\n",
       "       [ 73.17103252,  19.41648784,   0.        , ...,  21.37755833,\n",
       "         64.5368112 ,  72.56721023],\n",
       "       ..., \n",
       "       [ 78.64477096,  37.73592453,  21.37755833, ...,   0.        ,\n",
       "         75.59100476,  83.19254774],\n",
       "       [ 21.47091055,  47.09564736,  64.5368112 , ...,  75.59100476,\n",
       "          0.        ,   8.06225775],\n",
       "       [ 20.09975124,  55.14526272,  72.56721023, ...,  83.19254774,\n",
       "          8.06225775,   0.        ]])"
      ]
     },
     "execution_count": 39,
     "metadata": {},
     "output_type": "execute_result"
    }
   ],
   "source": [
    "for i in range(0, m.shape[0]):\n",
    "    for j in range(0, m.shape[0]):\n",
    "        m[i,j] = e_distance(data[i][1], data[i][2], data[j][1], data[j][2])\n",
    "m"
   ]
  }
 ],
 "metadata": {
  "kernelspec": {
   "display_name": "Python 3",
   "language": "python",
   "name": "python3"
  },
  "language_info": {
   "codemirror_mode": {
    "name": "ipython",
    "version": 3
   },
   "file_extension": ".py",
   "mimetype": "text/x-python",
   "name": "python",
   "nbconvert_exporter": "python",
   "pygments_lexer": "ipython3",
   "version": "3.4.3+"
  }
 },
 "nbformat": 4,
 "nbformat_minor": 0
}
